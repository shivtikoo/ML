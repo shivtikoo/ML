{
 "cells": [
  {
   "cell_type": "code",
   "execution_count": 2,
   "metadata": {},
   "outputs": [
    {
     "name": "stdout",
     "output_type": "stream",
     "text": [
      "mars\n",
      "earth\n",
      "This was a demo program that I was trying to run to JUPYTER NOTEBOOK ON VSCODE!!! \n"
     ]
    }
   ],
   "source": [
    "#setting up jupyter notebook on VSCODE\n",
    "\n",
    "planet1='earth'\n",
    "planet2='mars'\n",
    "\n",
    "planet1,planet2=planet2,planet1\n",
    "\n",
    "print(planet1)\n",
    "print(planet2)\n",
    "\n",
    "print(\"This was a demo program that I was trying to run to JUPYTER NOTEBOOK on VSCODE!!! \")"
   ]
  }
 ],
 "metadata": {
  "kernelspec": {
   "display_name": "Python 3",
   "language": "python",
   "name": "python3"
  },
  "language_info": {
   "codemirror_mode": {
    "name": "ipython",
    "version": 3
   },
   "file_extension": ".py",
   "mimetype": "text/x-python",
   "name": "python",
   "nbconvert_exporter": "python",
   "pygments_lexer": "ipython3",
   "version": "3.10.12"
  }
 },
 "nbformat": 4,
 "nbformat_minor": 2
}
