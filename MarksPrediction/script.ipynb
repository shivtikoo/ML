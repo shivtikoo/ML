{
 "cells": [
  {
   "cell_type": "markdown",
   "metadata": {},
   "source": [
    "# EXAM MARKS PREDICTION\n",
    "    - LINEAR REGRESSION\n",
    "    - FOR MULTIPLE VALUES"
   ]
  },
  {
   "cell_type": "code",
   "execution_count": 10,
   "metadata": {},
   "outputs": [
    {
     "name": "stdout",
     "output_type": "stream",
     "text": [
      "(201, 4)\n",
      "   hours  age  internet  marks\n",
      "0   6.83   15         1  78.50\n",
      "1   6.56   16         0  76.74\n",
      "2    NaN   17         1  78.68\n",
      "3   5.67   18         0  71.82\n",
      "4   8.67   19         1  84.19\n",
      "hours       5\n",
      "age         0\n",
      "internet    0\n",
      "marks       0\n",
      "dtype: int64\n",
      "hours       0\n",
      "age         0\n",
      "internet    0\n",
      "marks       0\n",
      "dtype: int64\n"
     ]
    }
   ],
   "source": [
    "# IMPORTING THE STANDARD LIBRARIES\n",
    "\n",
    "import pandas as pd\n",
    "import numpy as np\n",
    "from sklearn.model_selection import train_test_split\n",
    "from sklearn.linear_model import LinearRegression\n",
    "\n",
    "# READING THE DATASET \n",
    "\n",
    "dataset =  pd.read_csv('data.csv')\n",
    "\n",
    "print(dataset.shape)\n",
    "print(dataset.head(5))\n",
    "\n",
    "# PREPROCESSING\n",
    "\n",
    "# CHECKING FOR NULL VALUES\n",
    "\n",
    "print(dataset.isna().sum())\n",
    "\n",
    "# FEATURE HOURS HAS NULL VALUES \n",
    "\n",
    "# REPLACE NULL WITH THE MEAN HOURS, AN INDEPENDENT FEATURE HAS NOTHING TO DO WITH OTHER FEATURES \n",
    "\n",
    "dataset.hours = dataset.hours.fillna(dataset.hours.mean())\n",
    "\n",
    "print(dataset.isna().sum())\n",
    "\n"
   ]
  },
  {
   "cell_type": "code",
   "execution_count": 11,
   "metadata": {},
   "outputs": [],
   "source": [
    "# SPLITTING THE DATASET BASED ON DEPENDENCY\n",
    "\n",
    "X = dataset.iloc[:,:-1]\n",
    "Y = dataset.iloc[:,-1]\n",
    "\n",
    "# DATASET SPLITTING\n",
    "\n",
    "X_train, X_test, Y_train, Y_test = train_test_split(X, Y, test_size=0.2, random_state=42)"
   ]
  },
  {
   "cell_type": "code",
   "execution_count": 12,
   "metadata": {},
   "outputs": [
    {
     "name": "stdout",
     "output_type": "stream",
     "text": [
      "MEAN SQUARED ERROR: 1.2829331745633235\n",
      "MEAN ABSOLUTE ERROR: 0.943540420781202\n",
      "R2 SCORE: 0.9454404135394582\n"
     ]
    }
   ],
   "source": [
    "# TRAINING & TESTING THE MODEL\n",
    "\n",
    "model = LinearRegression()\n",
    "model.fit(X_train,Y_train)\n",
    "\n",
    "y_pred = model.predict(X_test)\n",
    "\n",
    "# EVALUATION METRICS\n",
    "\n",
    "from sklearn.metrics import mean_squared_error, mean_absolute_error, r2_score\n",
    "\n",
    "# Calculate Mean Squared Error (MSE)\n",
    "mse = mean_squared_error(Y_test, y_pred)\n",
    "print(f\"MEAN SQUARED ERROR: {mse}\")\n",
    "\n",
    "# Calculate Mean Absolute Error (MAE)\n",
    "mae = mean_absolute_error(Y_test, y_pred)\n",
    "print(f\"MEAN ABSOLUTE ERROR: {mae}\")\n",
    "\n",
    "# Calculate R-squared\n",
    "r2 = r2_score(Y_test, y_pred)\n",
    "print(f\"R2 SCORE: {r2}\")\n"
   ]
  },
  {
   "cell_type": "markdown",
   "metadata": {},
   "source": [
    "# EVALUATION METRICS\n",
    "\n",
    "- Mean Squared Error (MSE):     PENALISES LARGE ERRORS !!!\n",
    "    - Definition: MSE calculates the average squared differences between the predicted values and the true values.\n",
    "    - How it works:\n",
    "        It squares the differences between predicted and actual values, giving higher weights to larger errors.\n",
    "        Squaring removes the negative signs and penalizes larger errors more than smaller ones.\n",
    "    - Interpretation:\n",
    "        Larger MSE values indicate larger errors between predicted and actual values.\n",
    "        Lower MSE indicates better accuracy and closeness of predictions to actual values.\n",
    "- Mean Absolute Error (MAE):    BALANCED VIEW OF ERRORS !!!\n",
    "    - Definition: MAE calculates the average absolute differences between the predicted values and the true values.\n",
    "    - How it works:\n",
    "        It computes the average of the absolute differences between predicted and actual values.\n",
    "        It doesn't penalize large errors as heavily as MSE since it doesn't square the errors.\n",
    "    - Interpretation:\n",
    "        MAE gives a more balanced view of errors compared to MSE.\n",
    "        It's easier to interpret as it's in the same unit as the target variable.\n",
    "- R-squared (R2):      FIT OF THE MODEL !!!\n",
    "    - Definition: R-squared measures the proportion of variance in the dependent variable (target) explained by the independent variables (features) in the model.\n",
    "    - How it works:\n",
    "        It compares the variance of the predictions to the variance of the actual values.\n",
    "        R-squared ranges between 0 and 1, where 1 indicates that the model perfectly predicts the target variable.\n",
    "    - Interpretation:\n",
    "        Higher R-squared values indicate a better fit of the model to the data.\n",
    "        However, it doesn't indicate the correctness of the model or if it overfits.\n",
    "\n",
    "- In summary, MSE and MAE quantify the average error between predicted and actual values, while R-squared evaluates how well the model explains the variance in the target variable. Each metric provides different perspectives on the model's performance, and a combination of these metrics can offer a comprehensive understanding of its strengths and weaknesses."
   ]
  },
  {
   "cell_type": "markdown",
   "metadata": {},
   "source": []
  }
 ],
 "metadata": {
  "kernelspec": {
   "display_name": "ML",
   "language": "python",
   "name": "python3"
  },
  "language_info": {
   "codemirror_mode": {
    "name": "ipython",
    "version": 3
   },
   "file_extension": ".py",
   "mimetype": "text/x-python",
   "name": "python",
   "nbconvert_exporter": "python",
   "pygments_lexer": "ipython3",
   "version": "3.10.12"
  }
 },
 "nbformat": 4,
 "nbformat_minor": 2
}
