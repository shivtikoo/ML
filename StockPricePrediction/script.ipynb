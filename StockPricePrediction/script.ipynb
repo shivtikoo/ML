{
 "cells": [
  {
   "cell_type": "markdown",
   "metadata": {},
   "source": [
    "# STOCK PRICE PREDICTION\n",
    "\n",
    "- USING A SUPPORT VECTOR REGRESSION\n",
    "\n",
    "- HOW THE ALGORITHM WORKS??\n",
    "    - Finding a Street: SVR aims to draw a street (a margin) around your data points. Imagine your data points plotted on a graph. SVR tries to find a street that fits as many points as possible inside it while limiting violations (points outside the street).\n",
    "\n",
    "    - Margins and Tolerance: The street has two margins or boundaries. The points on the edges of these margins are called support vectors. There's also a tolerance level (epsilon) that allows some points to be outside the margins.\n",
    "\n",
    "    - Balancing Act: SVR seeks a balance between fitting the data well and keeping the street as wide as possible. It aims to minimize errors (points outside the street) while maintaining a maximum margin width.\n",
    "\n",
    "    - Kernel Trick: SVR can handle non-linear data by transforming it into a higher-dimensional space using a kernel function. This transformation helps in finding a linear pattern that fits the data well in the new space.\n",
    "\n",
    "    - Predictions: When you have new data points, SVR uses the learned street to predict where these points might lie. If the point falls within the street, it's predicted based on the surrounding data. If it's outside, it's considered an outlier.\n",
    "\n"
   ]
  },
  {
   "cell_type": "code",
   "execution_count": 2,
   "metadata": {},
   "outputs": [
    {
     "name": "stdout",
     "output_type": "stream",
     "text": [
      "(94, 2)\n",
      "            x           y\n",
      "0  168.181818  160.840244\n",
      "1  187.878788  159.413657\n",
      "2  207.575758  157.136809\n",
      "3  227.272727  159.357847\n",
      "4  246.969697  157.542862\n",
      "x    0\n",
      "y    0\n",
      "dtype: int64\n"
     ]
    }
   ],
   "source": [
    "# IMPORTING STANDARD LIBRARIES\n",
    "\n",
    "import pandas as pd\n",
    "import numpy as np\n",
    "from sklearn.model_selection import train_test_split\n",
    "from sklearn.svm import SVR\n",
    "\n",
    "# READING THE DATASET\n",
    "\n",
    "data = pd.read_csv('data.csv')\n",
    "\n",
    "print(data.shape)\n",
    "print(data.head(5))\n",
    "\n",
    "# CHECK FOR NULL VALUES\n",
    "\n",
    "print(data.isna().sum())\n",
    "\n",
    "# NO NULL VALUES \n",
    "\n",
    "# SPLITTING THE DATASET INTO X AND Y\n",
    "\n",
    "X = data.iloc[:,:-1]\n",
    "Y = data.iloc[:,-1]\n",
    "\n",
    "# DOING TRAIN TEST SPLIT \n",
    "\n",
    "X_train, X_test, Y_train, Y_test = train_test_split(X,Y, test_size=0.2)\n",
    "\n"
   ]
  },
  {
   "cell_type": "code",
   "execution_count": 3,
   "metadata": {},
   "outputs": [
    {
     "name": "stdout",
     "output_type": "stream",
     "text": [
      "MSE !!!\n",
      "2.6368838627155706\n",
      "R2 SCORE !!!\n",
      "0.933030248181008\n"
     ]
    }
   ],
   "source": [
    "# TRAINING THE M0DEL \n",
    "\n",
    "model = SVR()\n",
    "model.fit(X_train,Y_train)\n",
    "\n",
    "# DOING THE PREDICTION USING THE MODEL\n",
    "\n",
    "Y_pred =  model.predict(X_test)\n",
    "\n",
    "# EVALUATING THE MODEL \n",
    "\n",
    "from sklearn.metrics import mean_squared_error, r2_score\n",
    "\n",
    "print('MSE !!!')\n",
    "print(mean_squared_error(Y_test,Y_pred))\n",
    "\n",
    "print('R2 SCORE !!!')\n",
    "print(r2_score(Y_test, Y_pred))"
   ]
  }
 ],
 "metadata": {
  "kernelspec": {
   "display_name": "ML",
   "language": "python",
   "name": "python3"
  },
  "language_info": {
   "codemirror_mode": {
    "name": "ipython",
    "version": 3
   },
   "file_extension": ".py",
   "mimetype": "text/x-python",
   "name": "python",
   "nbconvert_exporter": "python",
   "pygments_lexer": "ipython3",
   "version": "3.10.12"
  }
 },
 "nbformat": 4,
 "nbformat_minor": 2
}
