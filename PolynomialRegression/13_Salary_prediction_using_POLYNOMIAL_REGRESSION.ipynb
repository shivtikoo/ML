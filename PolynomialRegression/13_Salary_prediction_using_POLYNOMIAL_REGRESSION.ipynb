{
  "nbformat": 4,
  "nbformat_minor": 0,
  "metadata": {
    "colab": {
      "name": "13_Salary prediction using POLYNOMIAL REGRESSION.ipynb",
      "provenance": [],
      "collapsed_sections": []
    },
    "kernelspec": {
      "name": "python3",
      "display_name": "Python 3"
    },
    "language_info": {
      "name": "python"
    }
  },
  "cells": [
    {
      "cell_type": "markdown",
      "metadata": {
        "id": "NdHIE4CSDCp3"
      },
      "source": [
        "# **Day-13 | Salary prediction using POLYNOMIAL REGRESSION**"
      ]
    },
    {
      "cell_type": "markdown",
      "metadata": {
        "id": "1NTrKL3eIgZ8"
      },
      "source": [
        "### *Importing Libraries*"
      ]
    },
    {
      "cell_type": "code",
      "metadata": {
        "id": "ae6Pxuc-CNeu"
      },
      "source": [
        "import pandas as pd"
      ],
      "execution_count": null,
      "outputs": []
    },
    {
      "cell_type": "markdown",
      "metadata": {
        "id": "6oo4HsbHInXM"
      },
      "source": [
        "### *Load Dataset from Local directory*"
      ]
    },
    {
      "cell_type": "code",
      "metadata": {
        "id": "w0WCVounIsJ5"
      },
      "source": [
        "from google.colab import files\n",
        "uploaded = files.upload()"
      ],
      "execution_count": null,
      "outputs": []
    },
    {
      "cell_type": "markdown",
      "metadata": {
        "id": "NHijCKx7I0k8"
      },
      "source": [
        "### *Load Dataset*"
      ]
    },
    {
      "cell_type": "code",
      "metadata": {
        "id": "zxBak91bI2yh"
      },
      "source": [
        "dataset = pd.read_csv('dataset.csv')"
      ],
      "execution_count": null,
      "outputs": []
    },
    {
      "cell_type": "markdown",
      "metadata": {
        "id": "5XKSRUPWI5Q-"
      },
      "source": [
        "### *Summarize Dataset*"
      ]
    },
    {
      "cell_type": "code",
      "metadata": {
        "id": "63BR2xiKI7oZ"
      },
      "source": [
        "print(dataset.shape)\n",
        "print(dataset.head(5))"
      ],
      "execution_count": null,
      "outputs": []
    },
    {
      "cell_type": "markdown",
      "metadata": {
        "id": "Zv8cn1g8Jix-"
      },
      "source": [
        "### *Segregate Dataset into Input X & Output Y*"
      ]
    },
    {
      "cell_type": "code",
      "metadata": {
        "id": "iR3g4pDjJoj9"
      },
      "source": [
        "X = dataset.iloc[:, :-1].values\n",
        "X"
      ],
      "execution_count": null,
      "outputs": []
    },
    {
      "cell_type": "code",
      "metadata": {
        "id": "LyJ8ghMFKcMe"
      },
      "source": [
        "Y = dataset.iloc[:, -1].values\n",
        "Y"
      ],
      "execution_count": null,
      "outputs": []
    },
    {
      "cell_type": "markdown",
      "metadata": {
        "id": "XP-L6ZRyL30I"
      },
      "source": [
        "### *Training Dataset using Linear Regression*"
      ]
    },
    {
      "cell_type": "code",
      "metadata": {
        "id": "c4x1C89ZVjr9"
      },
      "source": [
        "from sklearn.linear_model import LinearRegression\n",
        "modelLR = LinearRegression()\n",
        "modelLR.fit(X,Y)"
      ],
      "execution_count": null,
      "outputs": []
    },
    {
      "cell_type": "markdown",
      "metadata": {
        "id": "1QIRCVJDYPcx"
      },
      "source": [
        "### *Visualizing Linear Regression results*"
      ]
    },
    {
      "cell_type": "code",
      "metadata": {
        "id": "OX7tg4mZVori"
      },
      "source": [
        "import matplotlib.pyplot as plt\n",
        "plt.scatter(X,Y, color=\"red\")\n",
        "plt.plot(X, modelLR.predict(X))\n",
        "plt.title(\"Linear Regression\")\n",
        "plt.xlabel(\"Level\")\n",
        "plt.ylabel(\"Salary\")\n",
        "plt.show()"
      ],
      "execution_count": null,
      "outputs": []
    },
    {
      "cell_type": "markdown",
      "metadata": {
        "id": "5uGPFul3meTJ"
      },
      "source": [
        "### *fit() - Training Model - Calculating the initial parameters*\n",
        "\n",
        "### *transform() - After Training we gonna transform Data by using above calculated values*\n",
        "\n",
        "### *fit_transform() - First fit & Transform*\n"
      ]
    },
    {
      "cell_type": "markdown",
      "metadata": {
        "id": "hZsunqlaYh94"
      },
      "source": [
        "###*Convert X to Polynomial Format (X^n)*\n",
        "###*n-degree*\n",
        "###*n=2 consist x & x^2*\n",
        "###*n=3 consist x & x^2 & x^3*"
      ]
    },
    {
      "cell_type": "code",
      "metadata": {
        "id": "7jalKVwtL5Gq"
      },
      "source": [
        "from sklearn.preprocessing import PolynomialFeatures\n",
        "modelPR = PolynomialFeatures(degree = 4)\n",
        "xPoly = modelPR.fit_transform(X)"
      ],
      "execution_count": null,
      "outputs": []
    },
    {
      "cell_type": "markdown",
      "metadata": {
        "id": "0bDl6FGFb0tP"
      },
      "source": [
        "###*Train same Linear Regression with X-Polynomial instead of X*"
      ]
    },
    {
      "cell_type": "code",
      "metadata": {
        "id": "rET2XIDYWbb7"
      },
      "source": [
        "modelPLR = LinearRegression()\n",
        "modelPLR.fit(xPoly,Y)"
      ],
      "execution_count": null,
      "outputs": []
    },
    {
      "cell_type": "markdown",
      "metadata": {
        "id": "WHkfO4LChDBl"
      },
      "source": [
        "### *Visualizing Polynomial Regression results*"
      ]
    },
    {
      "cell_type": "code",
      "metadata": {
        "id": "JZZOZyQ6We2w"
      },
      "source": [
        "plt.scatter(X,Y, color=\"red\")\n",
        "plt.plot(X, modelPLR.predict(modelPR.fit_transform(X)))\n",
        "plt.title(\"Polynomial Regression\")\n",
        "plt.xlabel(\"Level\")\n",
        "plt.ylabel(\"Salary\")\n",
        "plt.show()"
      ],
      "execution_count": null,
      "outputs": []
    },
    {
      "cell_type": "markdown",
      "metadata": {
        "id": "4YOj1wVjerek"
      },
      "source": [
        "### *Prediction using Polynomial Regression*"
      ]
    },
    {
      "cell_type": "code",
      "metadata": {
        "id": "mt_Z7EDqWhdB"
      },
      "source": [
        "x=5\n",
        "salaryPred = modelPLR.predict(modelPR.fit_transform([[x]]))\n",
        "print('Salary of a person with Level {0} is {1}'.format(x,salaryPred))"
      ],
      "execution_count": null,
      "outputs": []
    }
  ]
}