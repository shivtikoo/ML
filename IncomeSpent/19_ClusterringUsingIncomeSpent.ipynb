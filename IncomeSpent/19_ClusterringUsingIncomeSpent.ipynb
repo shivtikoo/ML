{
  "nbformat": 4,
  "nbformat_minor": 0,
  "metadata": {
    "colab": {
      "name": "19_ClusterringUsingIncomeSpent.ipynb",
      "provenance": [],
      "collapsed_sections": []
    },
    "kernelspec": {
      "name": "python3",
      "display_name": "Python 3"
    }
  },
  "cells": [
    {
      "cell_type": "markdown",
      "metadata": {
        "id": "r3cas2_1T98w"
      },
      "source": [
        "#19 Clusterring Using Income Spent"
      ]
    },
    {
      "cell_type": "markdown",
      "metadata": {
        "id": "IODliia6U1xO"
      },
      "source": [
        "## Importing the basic libraries"
      ]
    },
    {
      "cell_type": "code",
      "metadata": {
        "id": "y98nA5UdU6Hf"
      },
      "source": [
        "import pandas as pd\n",
        "import numpy as np\n",
        "import matplotlib.pyplot as plt"
      ],
      "execution_count": null,
      "outputs": []
    },
    {
      "cell_type": "markdown",
      "metadata": {
        "id": "2hRC6YEod9_8"
      },
      "source": [
        "### Load Dataset from Local Directory"
      ]
    },
    {
      "cell_type": "code",
      "metadata": {
        "id": "tZBTr4JHeAzb"
      },
      "source": [
        "from google.colab import files\n",
        "uploaded = files.upload()"
      ],
      "execution_count": null,
      "outputs": []
    },
    {
      "cell_type": "markdown",
      "metadata": {
        "id": "jpjZ43YlU8eI"
      },
      "source": [
        "## Importing the dataset"
      ]
    },
    {
      "cell_type": "code",
      "metadata": {
        "id": "pLVaXoYVU_Uy"
      },
      "source": [
        "dataset = pd.read_csv('dataset.csv')"
      ],
      "execution_count": null,
      "outputs": []
    },
    {
      "cell_type": "markdown",
      "metadata": {
        "id": "INGdqI-BQpbL"
      },
      "source": [
        "### Summarize Dataset"
      ]
    },
    {
      "cell_type": "code",
      "metadata": {
        "id": "q4vNcNRIQtjr"
      },
      "source": [
        "print(dataset.shape)\n",
        "print(dataset.describe())\n",
        "print(dataset.head(5))"
      ],
      "execution_count": null,
      "outputs": []
    },
    {
      "cell_type": "markdown",
      "metadata": {
        "id": "zoIEOorVTzD9"
      },
      "source": [
        "### Segregate & Zipping Dataset"
      ]
    },
    {
      "cell_type": "code",
      "metadata": {
        "id": "wOuthXLlT0GI"
      },
      "source": [
        "Income = dataset['INCOME'].values\n",
        "Spend = dataset['SPEND'].values\n",
        "X = np.array(list(zip(Income, Spend)))\n",
        "X"
      ],
      "execution_count": null,
      "outputs": []
    },
    {
      "cell_type": "markdown",
      "metadata": {
        "id": "uz5ynI4FR734"
      },
      "source": [
        "### Finding the Optimized K Value"
      ]
    },
    {
      "cell_type": "code",
      "metadata": {
        "id": "2PuOMjABSCXw"
      },
      "source": [
        "from sklearn.cluster import KMeans\n",
        "wcss = []\n",
        "for i in range(1,11):\n",
        "    km=KMeans(n_clusters=i, random_state=0)\n",
        "    km.fit(X)\n",
        "    wcss.append(km.inertia_)\n",
        "plt.plot(range(1,11),wcss,color=\"red\", marker =\"8\")\n",
        "plt.title('Optimal K Value')\n",
        "plt.xlabel('Number of clusters')\n",
        "plt.ylabel('WCSS')\n",
        "plt.show()"
      ],
      "execution_count": null,
      "outputs": []
    },
    {
      "cell_type": "markdown",
      "metadata": {
        "id": "58ZB1rCZUVfH"
      },
      "source": [
        "### Fitting the k-means to the dataset with k=4"
      ]
    },
    {
      "cell_type": "code",
      "metadata": {
        "id": "0K7mijvHUW6Z"
      },
      "source": [
        "model=KMeans(n_clusters=4, random_state=0)\n",
        "y_means = model.fit_predict(X)"
      ],
      "execution_count": null,
      "outputs": []
    },
    {
      "cell_type": "markdown",
      "metadata": {
        "id": "rTMd_brsUctX"
      },
      "source": [
        "### Visualizing the clusters for k=4\n",
        "\n",
        "Cluster 1: Customers with medium income and low spend\n",
        "\n",
        "Cluster 2: Customers with high income and medium to high spend\n",
        "\n",
        "Cluster 3: Customers with low income\n",
        "\n",
        "Cluster 4: Customers with medium income but high spend"
      ]
    },
    {
      "cell_type": "code",
      "metadata": {
        "id": "PXDHbM4aUdvc"
      },
      "source": [
        "plt.scatter(X[y_means==0,0],X[y_means==0,1],s=50, c='brown',label='1')\n",
        "plt.scatter(X[y_means==1,0],X[y_means==1,1],s=50, c='blue',label='2')\n",
        "plt.scatter(X[y_means==2,0],X[y_means==2,1],s=50, c='green',label='3')\n",
        "plt.scatter(X[y_means==3,0],X[y_means==3,1],s=50, c='cyan',label='4')\n",
        "plt.scatter(model.cluster_centers_[:,0], model.cluster_centers_[:,1],s=100,marker='s', c='red', label='Centroids')\n",
        "plt.title('Income Spent Analysis')\n",
        "plt.xlabel('Income')\n",
        "plt.ylabel('Spent')\n",
        "plt.legend()\n",
        "plt.show()"
      ],
      "execution_count": null,
      "outputs": []
    }
  ]
}