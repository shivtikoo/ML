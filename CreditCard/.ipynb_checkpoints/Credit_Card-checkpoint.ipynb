{
 "cells": [
  {
   "cell_type": "code",
   "execution_count": 1,
   "id": "45bb39e9",
   "metadata": {},
   "outputs": [],
   "source": [
    "#Step 01 for us should be to IMPORT LIBRARIES\n",
    "\n",
    "import pandas as pd\n",
    "import numpy as np\n",
    "import matplotlib.pyplot as plt\n"
   ]
  },
  {
   "cell_type": "markdown",
   "id": "520e23ad",
   "metadata": {},
   "source": [
    "- INTEL\n",
    "\n",
    "- Numeric Details;\n",
    "    - AVG Balance 1000\n",
    "    - Interest 15%\n",
    "    - Membership fee 20/Card\n",
    "    - Loss Rate 3%\n",
    "    - Operating cost 25/Card\n",
    "    - Affiliation Fee 10/Card\n",
    "    - 6.5% Cost of Funds\n",
    "\n",
    "- Other Details;\n",
    "    - Statement on 1st of every month\n",
    "    - Credit-Free first 15 days of month\n"
   ]
  },
  {
   "cell_type": "code",
   "execution_count": 2,
   "id": "1bc77919",
   "metadata": {},
   "outputs": [],
   "source": [
    "#Initilaisation of the Customers\n",
    "\n",
    "#no. of customers\n",
    "no_cust=1000\n"
   ]
  },
  {
   "cell_type": "markdown",
   "id": "645cf237",
   "metadata": {},
   "source": [
    "- Division into Groups\n",
    "    - cust_x=Pay within Credit-Free Period (Assumption 95%)\n",
    "    - cust_y=Post 30 days (2%)\n",
    "    - cust_z=Post 45 days (2%)\n",
    "    - cust_nomore=Post 60 days (1%) [NOT TO BE INCLUDED IN THE NEXT CYCLE]\n",
    "    "
   ]
  },
  {
   "cell_type": "code",
   "execution_count": 3,
   "id": "130e4686",
   "metadata": {},
   "outputs": [],
   "source": [
    "#GROUPING\n",
    "cust_x=95/100\n",
    "cust_y=2/100\n",
    "cust_z=2/100\n",
    "cust_nomore=1/100\n"
   ]
  },
  {
   "cell_type": "code",
   "execution_count": 4,
   "id": "d2d81703",
   "metadata": {},
   "outputs": [],
   "source": [
    "#AVG BALANCE\n",
    "month_bal=1000"
   ]
  },
  {
   "cell_type": "code",
   "execution_count": 6,
   "id": "28bab6a4",
   "metadata": {},
   "outputs": [],
   "source": [
    "#REVENUE SOURCES\n",
    "#INTAKE/YEAR\n",
    "\n",
    "#MEMBERSHIP\n",
    "#20/CARD\n",
    "memb_fee=12*20*no_cust\n",
    "\n",
    "#AFFILIATION\n",
    "#10/CARD\n",
    "aff_fee=12*10*no_cust\n",
    "\n",
    "#INTEREST RATE\n",
    "#15%\n",
    "in_rate=15/100\n"
   ]
  },
  {
   "cell_type": "code",
   "execution_count": 7,
   "id": "1169364a",
   "metadata": {},
   "outputs": [],
   "source": [
    "#OUT TAKE/YEAR\n",
    "#EXPENSES\n",
    "\n",
    "#BANK\n",
    "cost_funds=12*no_cust*1000*0.065/12\n",
    "\n",
    "#OPERATIONS\n",
    "cost_opr=12*25*1000\n",
    "\n",
    "#LOSS\n",
    "#NON PAYMENT\n",
    "loss_rate=3/100\n"
   ]
  },
  {
   "cell_type": "markdown",
   "id": "a84d226d",
   "metadata": {},
   "source": [
    "- TASK 01\n",
    "    - Profit %\n",
    "- Profit = Intake-Outtake\n",
    "- Looks Simple but a whole lot of complications inside the same"
   ]
  },
  {
   "cell_type": "code",
   "execution_count": 10,
   "id": "d90f3859",
   "metadata": {},
   "outputs": [],
   "source": [
    "#TABLE FOR CATEGORIES\n",
    "\n",
    "days=30\n",
    "categories=4\n",
    "category_type=[]\n",
    "\n",
    "for cust_category in range(categories):\n",
    "    if cust_category==0:\n",
    "        category_type.append('Paid before due date')\n",
    "    else:\n",
    "        category_type.append('Paid %d days after due date'%days)\n",
    "        days+=15     \n",
    "\n",
    "data_calc=pd.DataFrame({'Category':category_type},index=np.arange(1,categories+1))"
   ]
  },
  {
   "cell_type": "code",
   "execution_count": 11,
   "id": "fcdc7e9f",
   "metadata": {},
   "outputs": [
    {
     "data": {
      "text/html": [
       "<div>\n",
       "<style scoped>\n",
       "    .dataframe tbody tr th:only-of-type {\n",
       "        vertical-align: middle;\n",
       "    }\n",
       "\n",
       "    .dataframe tbody tr th {\n",
       "        vertical-align: top;\n",
       "    }\n",
       "\n",
       "    .dataframe thead th {\n",
       "        text-align: right;\n",
       "    }\n",
       "</style>\n",
       "<table border=\"1\" class=\"dataframe\">\n",
       "  <thead>\n",
       "    <tr style=\"text-align: right;\">\n",
       "      <th></th>\n",
       "      <th>Category</th>\n",
       "    </tr>\n",
       "  </thead>\n",
       "  <tbody>\n",
       "    <tr>\n",
       "      <th>1</th>\n",
       "      <td>Paid before due date</td>\n",
       "    </tr>\n",
       "    <tr>\n",
       "      <th>2</th>\n",
       "      <td>Paid 30 days after due date</td>\n",
       "    </tr>\n",
       "    <tr>\n",
       "      <th>3</th>\n",
       "      <td>Paid 45 days after due date</td>\n",
       "    </tr>\n",
       "    <tr>\n",
       "      <th>4</th>\n",
       "      <td>Paid 60 days after due date</td>\n",
       "    </tr>\n",
       "  </tbody>\n",
       "</table>\n",
       "</div>"
      ],
      "text/plain": [
       "                      Category\n",
       "1         Paid before due date\n",
       "2  Paid 30 days after due date\n",
       "3  Paid 45 days after due date\n",
       "4  Paid 60 days after due date"
      ]
     },
     "execution_count": 11,
     "metadata": {},
     "output_type": "execute_result"
    }
   ],
   "source": [
    "#CALLING THE TABLE\n",
    "\n",
    "data_calc"
   ]
  },
  {
   "cell_type": "code",
   "execution_count": 29,
   "id": "2392de56",
   "metadata": {},
   "outputs": [],
   "source": [
    "#INTEREST AFTER n DAYS = n*BALANCE*INTEREST/365\n",
    "#DIVIDED BY 365 AS ON DAILY BASIS\n",
    "\n",
    "def interest_calc(payday):\n",
    "    \n",
    "    # CYCLE\n",
    "    #ASSUMPTION 15th DAY AVG DAY of TRANSACTION\n",
    "    avg_day_trans= 15\n",
    "    \n",
    "    #CASE01\n",
    "    if payday==category_type[0]:\n",
    "        Int_per_card=0\n",
    "        \n",
    "    #CASE02\n",
    "    #30DAYS\n",
    "    elif payday==category_type[1]:\n",
    "        Int_per_card=(avg_day_trans+15+30)*month_bal*in_rate/365\n",
    "        \n",
    "    #CASE03\n",
    "    #45DAYS\n",
    "    elif payday==category_type[2]:\n",
    "        Int_per_card=(avg_day_trans+15+45)*month_bal*in_rate/365\n",
    "        \n",
    "    #CASE04\n",
    "    #60DAYS\n",
    "    else:\n",
    "        Int_per_card=(avg_day_trans+15+60)*month_bal*in_rate/365\n",
    "        \n",
    "    return Int_per_card \n"
   ]
  },
  {
   "cell_type": "code",
   "execution_count": 35,
   "id": "acfa0b53",
   "metadata": {},
   "outputs": [],
   "source": [
    "#TABLE\n",
    "\n",
    "def total_int(column):\n",
    "    \n",
    "    #COLUMNS\n",
    "    payday=column[0]\n",
    "    interest_per_card=column[1]\n",
    "    \n",
    "    #CASE01\n",
    "    #ON TIME\n",
    "    if payday==category_type[0]:\n",
    "        total_interest=0\n",
    "        \n",
    "    #CASE02\n",
    "    #DELAY30\n",
    "    elif payday==category_type[1]:\n",
    "        total_interest=12*interest_per_card*cust_y*no_cust\n",
    "        \n",
    "    #CASE03\n",
    "    #DELAY45\n",
    "    elif payday==category_type[2]:\n",
    "        total_interest=12*interest_per_card*cust_z*no_cust\n",
    "        \n",
    "   #CASE04\n",
    "   #DELAY60\n",
    "    else:\n",
    "        total_interest=12*interest_per_card*cust_nomore*no_cust\n",
    "        \n",
    "    return total_interest\n"
   ]
  },
  {
   "cell_type": "code",
   "execution_count": 36,
   "id": "98a67359",
   "metadata": {},
   "outputs": [],
   "source": [
    "#TABLE\n",
    "#PROFIT/LOSS COLUMN\n",
    "\n",
    "def PnL():\n",
    "    if net_pnl>=0:\n",
    "        return 'Profit margin in percentage'\n",
    "    else:\n",
    "        return 'Loss margin in percentage'"
   ]
  },
  {
   "cell_type": "code",
   "execution_count": 37,
   "id": "4b687d4c",
   "metadata": {},
   "outputs": [],
   "source": [
    "#TABLE\n",
    "\n",
    "data_calc['Estimated_Default_Interest']=data_calc['Category'].apply(interest_calc).round(2)\n",
    "data_calc['Total_Interest']=data_calc[['Category','Estimated_Default_Interest']].apply(total_int,axis=1)\n",
    "data_calc['Fixed_Late_Charges']=data_calc['Estimated_Default_Interest'].apply(lambda x: 0 if x==0 else 50)\n"
   ]
  },
  {
   "cell_type": "code",
   "execution_count": 39,
   "id": "725aa592",
   "metadata": {},
   "outputs": [
    {
     "data": {
      "text/html": [
       "<div>\n",
       "<style scoped>\n",
       "    .dataframe tbody tr th:only-of-type {\n",
       "        vertical-align: middle;\n",
       "    }\n",
       "\n",
       "    .dataframe tbody tr th {\n",
       "        vertical-align: top;\n",
       "    }\n",
       "\n",
       "    .dataframe thead th {\n",
       "        text-align: right;\n",
       "    }\n",
       "</style>\n",
       "<table border=\"1\" class=\"dataframe\">\n",
       "  <thead>\n",
       "    <tr style=\"text-align: right;\">\n",
       "      <th></th>\n",
       "      <th>Category</th>\n",
       "      <th>Estimated_Default_Interest</th>\n",
       "      <th>Total_Interest</th>\n",
       "      <th>Fixed_Late_Charges</th>\n",
       "    </tr>\n",
       "  </thead>\n",
       "  <tbody>\n",
       "    <tr>\n",
       "      <th>1</th>\n",
       "      <td>Paid before due date</td>\n",
       "      <td>0.00</td>\n",
       "      <td>0.0</td>\n",
       "      <td>0</td>\n",
       "    </tr>\n",
       "    <tr>\n",
       "      <th>2</th>\n",
       "      <td>Paid 30 days after due date</td>\n",
       "      <td>24.66</td>\n",
       "      <td>5918.4</td>\n",
       "      <td>50</td>\n",
       "    </tr>\n",
       "    <tr>\n",
       "      <th>3</th>\n",
       "      <td>Paid 45 days after due date</td>\n",
       "      <td>30.82</td>\n",
       "      <td>7396.8</td>\n",
       "      <td>50</td>\n",
       "    </tr>\n",
       "    <tr>\n",
       "      <th>4</th>\n",
       "      <td>Paid 60 days after due date</td>\n",
       "      <td>36.99</td>\n",
       "      <td>4438.8</td>\n",
       "      <td>50</td>\n",
       "    </tr>\n",
       "  </tbody>\n",
       "</table>\n",
       "</div>"
      ],
      "text/plain": [
       "                      Category  Estimated_Default_Interest  Total_Interest  \\\n",
       "1         Paid before due date                        0.00             0.0   \n",
       "2  Paid 30 days after due date                       24.66          5918.4   \n",
       "3  Paid 45 days after due date                       30.82          7396.8   \n",
       "4  Paid 60 days after due date                       36.99          4438.8   \n",
       "\n",
       "   Fixed_Late_Charges  \n",
       "1                   0  \n",
       "2                  50  \n",
       "3                  50  \n",
       "4                  50  "
      ]
     },
     "execution_count": 39,
     "metadata": {},
     "output_type": "execute_result"
    }
   ],
   "source": [
    "#CALLING THE TABLE\n",
    "\n",
    "data_calc\n"
   ]
  },
  {
   "cell_type": "code",
   "execution_count": 43,
   "id": "d0cf4159",
   "metadata": {},
   "outputs": [],
   "source": [
    "#PROFIT CALC\n",
    "#TABLE\n",
    "\n",
    "#OUT TAKE\n",
    "out_take=cost_funds+cost_opr+(loss_rate*no_cust*month_bal)\n",
    "\n",
    "#INTAKE\n",
    "in_take=memb_fee+aff_fee+np.sum(data_calc['Total_Interest'])+(12*max(data_calc['Fixed_Late_Charges'])*5/100*no_cust)\n",
    "\n",
    "pnl=in_take-out_take \n",
    "net_pnl=pnl/out_take*100\n",
    "    \n",
    "pnl=pd.DataFrame({' Annual Card Balance':12*month_bal*no_cust,'INtake':in_take,'OUTtake':out_take,\n",
    "              'PnL':pnl,PnL():net_pnl.round(2)},index=[' '])"
   ]
  },
  {
   "cell_type": "code",
   "execution_count": 44,
   "id": "3f2f1ee8",
   "metadata": {},
   "outputs": [
    {
     "data": {
      "text/html": [
       "<div>\n",
       "<style scoped>\n",
       "    .dataframe tbody tr th:only-of-type {\n",
       "        vertical-align: middle;\n",
       "    }\n",
       "\n",
       "    .dataframe tbody tr th {\n",
       "        vertical-align: top;\n",
       "    }\n",
       "\n",
       "    .dataframe thead th {\n",
       "        text-align: right;\n",
       "    }\n",
       "</style>\n",
       "<table border=\"1\" class=\"dataframe\">\n",
       "  <thead>\n",
       "    <tr style=\"text-align: right;\">\n",
       "      <th></th>\n",
       "      <th>Annual Card Balance</th>\n",
       "      <th>INtake</th>\n",
       "      <th>OUTtake</th>\n",
       "      <th>PnL</th>\n",
       "      <th>Profit margin in percentage</th>\n",
       "    </tr>\n",
       "  </thead>\n",
       "  <tbody>\n",
       "    <tr>\n",
       "      <th></th>\n",
       "      <td>12000000</td>\n",
       "      <td>407754.0</td>\n",
       "      <td>395000.0</td>\n",
       "      <td>12754.0</td>\n",
       "      <td>3.23</td>\n",
       "    </tr>\n",
       "  </tbody>\n",
       "</table>\n",
       "</div>"
      ],
      "text/plain": [
       "    Annual Card Balance    INtake   OUTtake      PnL  \\\n",
       "               12000000  407754.0  395000.0  12754.0   \n",
       "\n",
       "   Profit margin in percentage  \n",
       "                          3.23  "
      ]
     },
     "execution_count": 44,
     "metadata": {},
     "output_type": "execute_result"
    }
   ],
   "source": [
    "#TASK01\n",
    "#FINAL TABLE\n",
    " \n",
    "pnl\n"
   ]
  },
  {
   "cell_type": "markdown",
   "id": "52129929",
   "metadata": {},
   "source": [
    "- TASK 02\n",
    "\n",
    "   - In both the scenarios, the loss doubles as normal logic would suggest and the profit increases by a very small percentage; the reason for this is simple.The amount has increased which suggests that both loss and profit also increase as they are both quantities dependent on this average amount.It's just that profit has always been more than the loss as we observe in the previous case too; thus the difference would still exist. We will maintain a profit but by a very small percentage more than the previous one.\n"
   ]
  },
  {
   "cell_type": "markdown",
   "id": "4e38e272",
   "metadata": {},
   "source": [
    "- TASK 03\n",
    "- I personally feel this is a very scenario dependent question and the answer will vary greatly as per the situation.\n",
    "    - PERSPECTIVE 01: A simple observation would be that the whole scenario is a HIGH RISK HIGH REWARD one, to elaborate the amount borrowed by a high balance borrower would be more thus providing more interest, explaining the high reward sceNario. On the other hand if this person defaults, it can also lead to a more grave loss.\n",
    "    - PERSPECTIVE 02: The whole situation can be that the borrower with the low balance will obviously have an unstable income source thus more likely to not be able to clear his dues."
   ]
  },
  {
   "cell_type": "markdown",
   "id": "32e28ed8",
   "metadata": {},
   "source": [
    "- TASK 04\n",
    "    - RUPEES 20 PER CUSTOMER: Thus making it Rupees 20,000 to purchase all the customers.\n",
    "    - The company does make a profit of 12,754 rupees from what we were able to figure out in the TASK 01; thus the company will have to invest some extra money Rupees 7,426 to be exact to purchase the borrowers from the bank but eventually they would be able to garner a profit out of the whole situation. It would be a rather fast process with a big profit margin within a year. \n",
    "    - As by the end of the next cycle after purchase,the company won't have to pay the Rupees 3,95,000 to the credit card company for its services; thus in turn making their investment worth it."
   ]
  },
  {
   "cell_type": "markdown",
   "id": "127bb12f",
   "metadata": {},
   "source": [
    "- TASK 05\n",
    "    - The numbers itself that 95% people clear their dues on time can be taken as a big plus point. It can be used to convince the affiliated group not to want to purchase."
   ]
  },
  {
   "cell_type": "markdown",
   "id": "89516b1c",
   "metadata": {},
   "source": [
    "- TASK 06\n",
    "    -  The cost would be just the sum of amounts that need to be paid by customers who pay late; that would make 5% of all the customers.\n",
    "    - The answer would be the sum that is Rupees 17,752. sum found from the values obtained in TASK 01."
   ]
  },
  {
   "cell_type": "markdown",
   "id": "0c1d657a",
   "metadata": {},
   "source": [
    "- TASK 07\n",
    "    - The answer to this is pretty intuitional as, form the point of view of the credit card company profit is guarenteed. Unless the borrower defaults; profit is guarenteed as time is money in this situation and longer the borrower takes to cclear his dues more the interest amount becomes thuss giving more profit.\n",
    "    - A simple example for the same would be; if a high balance borrower borrows a certain amount of money and if he forgets to clear his dues on time, the interest is charged as days go by thus giving the credit card company extra amount compared to what it lent. Explaining time is money.\n",
    "    - This situation is a fairy tale for the credit card company until and unless the borrower doesn't DEFAULT.\n"
   ]
  }
 ],
 "metadata": {
  "kernelspec": {
   "display_name": "Python 3 (ipykernel)",
   "language": "python",
   "name": "python3"
  },
  "language_info": {
   "codemirror_mode": {
    "name": "ipython",
    "version": 3
   },
   "file_extension": ".py",
   "mimetype": "text/x-python",
   "name": "python",
   "nbconvert_exporter": "python",
   "pygments_lexer": "ipython3",
   "version": "3.9.7"
  }
 },
 "nbformat": 4,
 "nbformat_minor": 5
}
